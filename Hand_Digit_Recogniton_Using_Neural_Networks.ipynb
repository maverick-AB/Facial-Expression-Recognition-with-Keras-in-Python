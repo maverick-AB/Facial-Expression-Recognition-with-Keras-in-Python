{
  "nbformat": 4,
  "nbformat_minor": 0,
  "metadata": {
    "colab": {
      "name": "Hand_Digit_Recogniton.ipynb",
      "provenance": [],
      "collapsed_sections": [],
      "authorship_tag": "ABX9TyPaTQiUCETcIDo+vy5+xfdV",
      "include_colab_link": true
    },
    "kernelspec": {
      "name": "python3",
      "display_name": "Python 3"
    },
    "language_info": {
      "name": "python"
    }
  },
  "cells": [
    {
      "cell_type": "markdown",
      "metadata": {
        "id": "view-in-github",
        "colab_type": "text"
      },
      "source": [
        "<a href=\"https://colab.research.google.com/github/PrarabdhDar/Facial-Expression-Recognition-with-Keras-in-Python/blob/main/Hand_Digit_Recogniton_Using_Neural_Networks.ipynb\" target=\"_parent\"><img src=\"https://colab.research.google.com/assets/colab-badge.svg\" alt=\"Open In Colab\"/></a>"
      ]
    },
    {
      "cell_type": "code",
      "execution_count": 60,
      "metadata": {
        "id": "9Rp5gq_Khv6B"
      },
      "outputs": [],
      "source": [
        "import tensorflow as tf\n",
        "from tensorflow import keras\n",
        "import pandas as pd\n",
        "import matplotlib as plt\n",
        "%matplotlib inline\n",
        "import numpy as np"
      ]
    },
    {
      "cell_type": "code",
      "source": [
        "(X_train, y_train), (X_test, y_test) = keras.datasets.mnist.load_data()"
      ],
      "metadata": {
        "id": "_f--uSRHiw3h"
      },
      "execution_count": 61,
      "outputs": []
    },
    {
      "cell_type": "code",
      "source": [
        "X_train_flattened = X_train.reshape(len(X_train), 28*28)\n",
        "X_test_flattened = X_test.reshape(len(X_test), 28*28)\n",
        "X_train_flattened = X_train_flattened/255\n",
        "X_test_flattened = X_test_flattened/255"
      ],
      "metadata": {
        "id": "WSH2cZXkjS-B"
      },
      "execution_count": 62,
      "outputs": []
    },
    {
      "cell_type": "code",
      "source": [
        "model = keras.Sequential([\n",
        "    keras.layers.Dense(256, input_shape = (784,), activation = 'relu'),\n",
        "    keras.layers.Dense(128, activation = 'relu'), \n",
        "    keras.layers.Dense(10, activation = 'sigmoid')\n",
        "])\n",
        "model.compile(optimizer = 'adam', \n",
        "              loss = 'sparse_categorical_crossentropy',\n",
        "              metrics = ['accuracy'])\n",
        "model.fit(X_train_flattened, y_train, epochs = 8)"
      ],
      "metadata": {
        "colab": {
          "base_uri": "https://localhost:8080/"
        },
        "id": "Refbbicik53X",
        "outputId": "ebdb16b8-b5eb-40bd-b80a-f16ab88681d4"
      },
      "execution_count": 65,
      "outputs": [
        {
          "output_type": "stream",
          "name": "stdout",
          "text": [
            "Epoch 1/8\n",
            "1875/1875 [==============================] - 8s 4ms/step - loss: 0.2042 - accuracy: 0.9390\n",
            "Epoch 2/8\n",
            "1875/1875 [==============================] - 7s 4ms/step - loss: 0.0848 - accuracy: 0.9737\n",
            "Epoch 3/8\n",
            "1875/1875 [==============================] - 7s 4ms/step - loss: 0.0577 - accuracy: 0.9821\n",
            "Epoch 4/8\n",
            "1875/1875 [==============================] - 7s 4ms/step - loss: 0.0449 - accuracy: 0.9855\n",
            "Epoch 5/8\n",
            "1875/1875 [==============================] - 7s 4ms/step - loss: 0.0365 - accuracy: 0.9880\n",
            "Epoch 6/8\n",
            "1875/1875 [==============================] - 7s 4ms/step - loss: 0.0271 - accuracy: 0.9906\n",
            "Epoch 7/8\n",
            "1875/1875 [==============================] - 7s 4ms/step - loss: 0.0237 - accuracy: 0.9923\n",
            "Epoch 8/8\n",
            "1875/1875 [==============================] - 8s 4ms/step - loss: 0.0218 - accuracy: 0.9928\n"
          ]
        },
        {
          "output_type": "execute_result",
          "data": {
            "text/plain": [
              "<keras.callbacks.History at 0x7f792a4d8b90>"
            ]
          },
          "metadata": {},
          "execution_count": 65
        }
      ]
    },
    {
      "cell_type": "code",
      "source": [
        "model.evaluate(X_test_flattened, y_test)"
      ],
      "metadata": {
        "id": "tscxAXYtpIxx",
        "colab": {
          "base_uri": "https://localhost:8080/"
        },
        "outputId": "44f9be24-14b7-4f9c-cd86-5d49be5355d6"
      },
      "execution_count": 64,
      "outputs": [
        {
          "output_type": "stream",
          "name": "stdout",
          "text": [
            "313/313 [==============================] - 1s 2ms/step - loss: 0.0759 - accuracy: 0.9780\n"
          ]
        },
        {
          "output_type": "execute_result",
          "data": {
            "text/plain": [
              "[0.07589392364025116, 0.9779999852180481]"
            ]
          },
          "metadata": {},
          "execution_count": 64
        }
      ]
    }
  ]
}